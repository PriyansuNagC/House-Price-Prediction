{
 "cells": [
  {
   "cell_type": "code",
   "execution_count": 1,
   "id": "ec5c1ad6",
   "metadata": {},
   "outputs": [],
   "source": [
    "from joblib import dump , load\n",
    "import numpy as np\n",
    "model = load('dragon.joblib')"
   ]
  },
  {
   "cell_type": "code",
   "execution_count": 2,
   "id": "84fc2906",
   "metadata": {},
   "outputs": [
    {
     "data": {
      "text/plain": [
       "array([20.09763253])"
      ]
     },
     "execution_count": 2,
     "metadata": {},
     "output_type": "execute_result"
    }
   ],
   "source": [
    "fet = np.array([[1.33634919, -1.69732575,  0.88477281, -0.37510886, -0.48993566,\n",
    "       -1.38876478, -1.14545847]])\n",
    "model.predict(fet)"
   ]
  },
  {
   "cell_type": "code",
   "execution_count": null,
   "id": "98f99114",
   "metadata": {},
   "outputs": [],
   "source": []
  }
 ],
 "metadata": {
  "kernelspec": {
   "display_name": "Python 3 (ipykernel)",
   "language": "python",
   "name": "python3"
  },
  "language_info": {
   "codemirror_mode": {
    "name": "ipython",
    "version": 3
   },
   "file_extension": ".py",
   "mimetype": "text/x-python",
   "name": "python",
   "nbconvert_exporter": "python",
   "pygments_lexer": "ipython3",
   "version": "3.11.4"
  }
 },
 "nbformat": 4,
 "nbformat_minor": 5
}
